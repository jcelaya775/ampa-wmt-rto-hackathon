{
 "cells": [
  {
   "cell_type": "code",
   "execution_count": 1,
   "id": "dc586adb",
   "metadata": {},
   "outputs": [],
   "source": [
    "import pandas as pd\n",
    "\n",
    "import sqlite3\n",
    "from sqlite3 import Error\n",
    "\n",
    "import seaborn as sns\n",
    "\n",
    "import numpy as np\n",
    "from numpy import mean\n",
    "from numpy import std\n",
    "\n",
    "import matplotlib as plt \n",
    "%matplotlib inline\n",
    "from matplotlib.pylab import rcParams\n",
    "import matplotlib.pyplot as plt\n",
    "\n",
    "import sklearn\n",
    "from sklearn import datasets, linear_model\n",
    "from sklearn.model_selection import train_test_split\n",
    "from sklearn.datasets import make_regression\n",
    "from sklearn import preprocessing\n",
    "from sklearn.impute import SimpleImputer\n",
    "from sklearn.tree import DecisionTreeClassifier\n",
    "from sklearn.linear_model import LinearRegression\n",
    "from sklearn import metrics\n",
    "from sklearn.metrics import r2_score\n",
    "from sklearn.datasets import make_blobs\n",
    "from sklearn.model_selection import KFold\n",
    "from sklearn.neighbors import KNeighborsClassifier\n",
    "from sklearn.metrics import accuracy_score\n",
    "from sklearn.model_selection import cross_val_score, cross_val_predict\n",
    "\n"
   ]
  },
  {
   "cell_type": "code",
   "execution_count": 2,
   "id": "7531a0b2",
   "metadata": {},
   "outputs": [],
   "source": [
    "df = pd.read_excel(\"ampa_wmt_rto_hackathon_july-22_data.xlsx\", sheet_name=['animal_data','shelter_data'])\n",
    "animal_data = df['animal_data']\n",
    "shelter_data = df['shelter_data']"
   ]
  },
  {
   "cell_type": "markdown",
   "id": "24a24509",
   "metadata": {},
   "source": [
    "## understanding Animal Data "
   ]
  },
  {
   "cell_type": "code",
   "execution_count": 3,
   "id": "200f79c4",
   "metadata": {
    "scrolled": true
   },
   "outputs": [
    {
     "data": {
      "text/plain": [
       "Index(['shelter_id', 'intake_date', 'Species', 'found_lng', 'found_lat',\n",
       "       'outcome_lng', 'outcome_lat', 'distance_miles', 'found_address',\n",
       "       'outcome_address'],\n",
       "      dtype='object')"
      ]
     },
     "execution_count": 3,
     "metadata": {},
     "output_type": "execute_result"
    }
   ],
   "source": [
    "animal_data.columns"
   ]
  },
  {
   "cell_type": "code",
   "execution_count": 4,
   "id": "6f8b4079",
   "metadata": {},
   "outputs": [],
   "source": [
    "dt = animal_data[['shelter_id','Species','distance_miles']]"
   ]
  },
  {
   "cell_type": "code",
   "execution_count": 5,
   "id": "f022c20d",
   "metadata": {
    "scrolled": true
   },
   "outputs": [
    {
     "data": {
      "text/html": [
       "<div>\n",
       "<style scoped>\n",
       "    .dataframe tbody tr th:only-of-type {\n",
       "        vertical-align: middle;\n",
       "    }\n",
       "\n",
       "    .dataframe tbody tr th {\n",
       "        vertical-align: top;\n",
       "    }\n",
       "\n",
       "    .dataframe thead th {\n",
       "        text-align: right;\n",
       "    }\n",
       "</style>\n",
       "<table border=\"1\" class=\"dataframe\">\n",
       "  <thead>\n",
       "    <tr style=\"text-align: right;\">\n",
       "      <th></th>\n",
       "      <th>shelter_id</th>\n",
       "      <th>Species</th>\n",
       "      <th>distance_miles</th>\n",
       "    </tr>\n",
       "  </thead>\n",
       "  <tbody>\n",
       "    <tr>\n",
       "      <th>0</th>\n",
       "      <td>Rochester</td>\n",
       "      <td>Dog</td>\n",
       "      <td>0.085445</td>\n",
       "    </tr>\n",
       "    <tr>\n",
       "      <th>1</th>\n",
       "      <td>Rochester</td>\n",
       "      <td>Dog</td>\n",
       "      <td>1.245466</td>\n",
       "    </tr>\n",
       "    <tr>\n",
       "      <th>2</th>\n",
       "      <td>Rochester</td>\n",
       "      <td>Dog</td>\n",
       "      <td>0.528722</td>\n",
       "    </tr>\n",
       "    <tr>\n",
       "      <th>3</th>\n",
       "      <td>Rochester</td>\n",
       "      <td>Dog</td>\n",
       "      <td>0.163735</td>\n",
       "    </tr>\n",
       "    <tr>\n",
       "      <th>4</th>\n",
       "      <td>Rochester</td>\n",
       "      <td>Dog</td>\n",
       "      <td>0.170467</td>\n",
       "    </tr>\n",
       "    <tr>\n",
       "      <th>...</th>\n",
       "      <td>...</td>\n",
       "      <td>...</td>\n",
       "      <td>...</td>\n",
       "    </tr>\n",
       "    <tr>\n",
       "      <th>23075</th>\n",
       "      <td>Atlanta</td>\n",
       "      <td>Dog</td>\n",
       "      <td>1.536071</td>\n",
       "    </tr>\n",
       "    <tr>\n",
       "      <th>23076</th>\n",
       "      <td>Atlanta</td>\n",
       "      <td>Dog</td>\n",
       "      <td>0.046022</td>\n",
       "    </tr>\n",
       "    <tr>\n",
       "      <th>23077</th>\n",
       "      <td>Atlanta</td>\n",
       "      <td>Dog</td>\n",
       "      <td>0.090819</td>\n",
       "    </tr>\n",
       "    <tr>\n",
       "      <th>23078</th>\n",
       "      <td>Atlanta</td>\n",
       "      <td>Dog</td>\n",
       "      <td>0.124132</td>\n",
       "    </tr>\n",
       "    <tr>\n",
       "      <th>23079</th>\n",
       "      <td>Atlanta</td>\n",
       "      <td>Dog</td>\n",
       "      <td>9.428101</td>\n",
       "    </tr>\n",
       "  </tbody>\n",
       "</table>\n",
       "<p>23080 rows × 3 columns</p>\n",
       "</div>"
      ],
      "text/plain": [
       "      shelter_id Species  distance_miles\n",
       "0      Rochester     Dog        0.085445\n",
       "1      Rochester     Dog        1.245466\n",
       "2      Rochester     Dog        0.528722\n",
       "3      Rochester     Dog        0.163735\n",
       "4      Rochester     Dog        0.170467\n",
       "...          ...     ...             ...\n",
       "23075    Atlanta     Dog        1.536071\n",
       "23076    Atlanta     Dog        0.046022\n",
       "23077    Atlanta     Dog        0.090819\n",
       "23078    Atlanta     Dog        0.124132\n",
       "23079    Atlanta     Dog        9.428101\n",
       "\n",
       "[23080 rows x 3 columns]"
      ]
     },
     "execution_count": 5,
     "metadata": {},
     "output_type": "execute_result"
    }
   ],
   "source": [
    "dt"
   ]
  },
  {
   "cell_type": "code",
   "execution_count": 6,
   "id": "5a620f45",
   "metadata": {},
   "outputs": [
    {
     "data": {
      "text/plain": [
       "<Figure size 1152x2160 with 0 Axes>"
      ]
     },
     "metadata": {},
     "output_type": "display_data"
    },
    {
     "data": {
      "image/png": "[encoded data removed]",
      "text/plain": [
       "<Figure size 504x504 with 1 Axes>"
      ]
     },
     "metadata": {
      "needs_background": "light"
     },
     "output_type": "display_data"
    }
   ],
   "source": [
    "plt.figure(figsize=(16, 30))\n",
    "g = sns.displot(data=dt, x=\"distance_miles\", kind= \"kde\", height = 7)"
   ]
  },
  {
   "cell_type": "markdown",
   "id": "51fca885",
   "metadata": {},
   "source": [
    "most of the animals were found close to the outcome address and were able to be returned "
   ]
  },
  {
   "cell_type": "code",
   "execution_count": 7,
   "id": "508d966f",
   "metadata": {
    "scrolled": true
   },
   "outputs": [
    {
     "data": {
      "text/plain": [
       "array(['Rochester', 'Oakland', 'Fresno', 'Mcallen', 'Tucson', 'Madera',\n",
       "       'Las Vegas', 'Dallas', 'San Diego', 'Pasco', 'Atlanta'],\n",
       "      dtype=object)"
      ]
     },
     "execution_count": 7,
     "metadata": {},
     "output_type": "execute_result"
    }
   ],
   "source": [
    "dt['shelter_id'].unique()"
   ]
  },
  {
   "cell_type": "code",
   "execution_count": 35,
   "id": "dbaa210f",
   "metadata": {},
   "outputs": [
    {
     "data": {
      "text/plain": [
       "{'Rochester': 1,\n",
       " 'Oakland': 2,\n",
       " 'Fresno': 3,\n",
       " 'Mcallen': 4,\n",
       " 'Tucson': 5,\n",
       " 'Madera': 6,\n",
       " 'Las Vegas': 7,\n",
       " 'Dallas': 8,\n",
       " 'San Diego': 9,\n",
       " 'Pasco': 10,\n",
       " 'Atlanta': 11}"
      ]
     },
     "execution_count": 35,
     "metadata": {},
     "output_type": "execute_result"
    }
   ],
   "source": [
    "keys = [1,2,3,4,5,6,7,8,9,10,11]\n",
    "x = dict(zip(dt['shelter_id'].unique(), keys))\n",
    "x"
   ]
  },
  {
   "cell_type": "code",
   "execution_count": 9,
   "id": "be6bea1f",
   "metadata": {},
   "outputs": [],
   "source": [
    "dt2=dt.replace({\"shelter_id\": x})"
   ]
  },
  {
   "cell_type": "code",
   "execution_count": 10,
   "id": "9e5fe5f5",
   "metadata": {},
   "outputs": [
    {
     "data": {
      "text/html": [
       "<div>\n",
       "<style scoped>\n",
       "    .dataframe tbody tr th:only-of-type {\n",
       "        vertical-align: middle;\n",
       "    }\n",
       "\n",
       "    .dataframe tbody tr th {\n",
       "        vertical-align: top;\n",
       "    }\n",
       "\n",
       "    .dataframe thead th {\n",
       "        text-align: right;\n",
       "    }\n",
       "</style>\n",
       "<table border=\"1\" class=\"dataframe\">\n",
       "  <thead>\n",
       "    <tr style=\"text-align: right;\">\n",
       "      <th></th>\n",
       "      <th>shelter_id</th>\n",
       "      <th>Species</th>\n",
       "      <th>distance_miles</th>\n",
       "    </tr>\n",
       "  </thead>\n",
       "  <tbody>\n",
       "    <tr>\n",
       "      <th>0</th>\n",
       "      <td>1</td>\n",
       "      <td>Dog</td>\n",
       "      <td>0.085445</td>\n",
       "    </tr>\n",
       "    <tr>\n",
       "      <th>1</th>\n",
       "      <td>1</td>\n",
       "      <td>Dog</td>\n",
       "      <td>1.245466</td>\n",
       "    </tr>\n",
       "    <tr>\n",
       "      <th>2</th>\n",
       "      <td>1</td>\n",
       "      <td>Dog</td>\n",
       "      <td>0.528722</td>\n",
       "    </tr>\n",
       "    <tr>\n",
       "      <th>3</th>\n",
       "      <td>1</td>\n",
       "      <td>Dog</td>\n",
       "      <td>0.163735</td>\n",
       "    </tr>\n",
       "    <tr>\n",
       "      <th>4</th>\n",
       "      <td>1</td>\n",
       "      <td>Dog</td>\n",
       "      <td>0.170467</td>\n",
       "    </tr>\n",
       "    <tr>\n",
       "      <th>...</th>\n",
       "      <td>...</td>\n",
       "      <td>...</td>\n",
       "      <td>...</td>\n",
       "    </tr>\n",
       "    <tr>\n",
       "      <th>23075</th>\n",
       "      <td>11</td>\n",
       "      <td>Dog</td>\n",
       "      <td>1.536071</td>\n",
       "    </tr>\n",
       "    <tr>\n",
       "      <th>23076</th>\n",
       "      <td>11</td>\n",
       "      <td>Dog</td>\n",
       "      <td>0.046022</td>\n",
       "    </tr>\n",
       "    <tr>\n",
       "      <th>23077</th>\n",
       "      <td>11</td>\n",
       "      <td>Dog</td>\n",
       "      <td>0.090819</td>\n",
       "    </tr>\n",
       "    <tr>\n",
       "      <th>23078</th>\n",
       "      <td>11</td>\n",
       "      <td>Dog</td>\n",
       "      <td>0.124132</td>\n",
       "    </tr>\n",
       "    <tr>\n",
       "      <th>23079</th>\n",
       "      <td>11</td>\n",
       "      <td>Dog</td>\n",
       "      <td>9.428101</td>\n",
       "    </tr>\n",
       "  </tbody>\n",
       "</table>\n",
       "<p>23080 rows × 3 columns</p>\n",
       "</div>"
      ],
      "text/plain": [
       "       shelter_id Species  distance_miles\n",
       "0               1     Dog        0.085445\n",
       "1               1     Dog        1.245466\n",
       "2               1     Dog        0.528722\n",
       "3               1     Dog        0.163735\n",
       "4               1     Dog        0.170467\n",
       "...           ...     ...             ...\n",
       "23075          11     Dog        1.536071\n",
       "23076          11     Dog        0.046022\n",
       "23077          11     Dog        0.090819\n",
       "23078          11     Dog        0.124132\n",
       "23079          11     Dog        9.428101\n",
       "\n",
       "[23080 rows x 3 columns]"
      ]
     },
     "execution_count": 10,
     "metadata": {},
     "output_type": "execute_result"
    }
   ],
   "source": [
    "dt2"
   ]
  },
  {
   "cell_type": "code",
   "execution_count": 11,
   "id": "b2d71266",
   "metadata": {
    "scrolled": true
   },
   "outputs": [
    {
     "data": {
      "text/plain": [
       "array(['Dog', 'Cat', 'Pet Reptile', 'Pig', 'Horse', 'Rabbit', 'DOG', nan,\n",
       "       'Other'], dtype=object)"
      ]
     },
     "execution_count": 11,
     "metadata": {},
     "output_type": "execute_result"
    }
   ],
   "source": [
    "dt['Species'].unique()"
   ]
  },
  {
   "cell_type": "code",
   "execution_count": 12,
   "id": "9ce549c1",
   "metadata": {
    "scrolled": false
   },
   "outputs": [],
   "source": [
    "dt2.loc[dt2['Species'] == \"DOG\", \"Species\"] = 'Dog'"
   ]
  },
  {
   "cell_type": "code",
   "execution_count": 13,
   "id": "d0f2d4a1",
   "metadata": {},
   "outputs": [
    {
     "data": {
      "text/plain": [
       "array(['Dog', 'Cat', 'Pet Reptile', 'Pig', 'Horse', 'Rabbit', nan,\n",
       "       'Other'], dtype=object)"
      ]
     },
     "execution_count": 13,
     "metadata": {},
     "output_type": "execute_result"
    }
   ],
   "source": [
    "dt2['Species'].unique()"
   ]
  },
  {
   "cell_type": "code",
   "execution_count": 14,
   "id": "b24c30e9",
   "metadata": {
    "scrolled": true
   },
   "outputs": [
    {
     "data": {
      "text/plain": [
       "7"
      ]
     },
     "execution_count": 14,
     "metadata": {},
     "output_type": "execute_result"
    }
   ],
   "source": [
    "dt2['Species'].nunique()"
   ]
  },
  {
   "cell_type": "code",
   "execution_count": 73,
   "id": "fc6fc14c",
   "metadata": {},
   "outputs": [
    {
     "data": {
      "text/plain": [
       "shelter_id           11\n",
       "Species               7\n",
       "distance_miles    18458\n",
       "dtype: int64"
      ]
     },
     "execution_count": 73,
     "metadata": {},
     "output_type": "execute_result"
    }
   ],
   "source": [
    "dt2.nunique()"
   ]
  },
  {
   "cell_type": "code",
   "execution_count": 15,
   "id": "6acd35c6",
   "metadata": {},
   "outputs": [
    {
     "data": {
      "text/plain": [
       "{'Dog': 101,\n",
       " 'Cat': 102,\n",
       " 'Pet Reptile': 103,\n",
       " 'Pig': 104,\n",
       " 'Horse': 105,\n",
       " 'Rabbit': 106,\n",
       " nan: 100,\n",
       " 'Other': 107}"
      ]
     },
     "execution_count": 15,
     "metadata": {},
     "output_type": "execute_result"
    }
   ],
   "source": [
    "keys2 = [101,102,103,104,105,106,100,107]\n",
    "y = dict(zip(dt2['Species'].unique(), keys2))\n",
    "y"
   ]
  },
  {
   "cell_type": "code",
   "execution_count": 16,
   "id": "348a6615",
   "metadata": {},
   "outputs": [],
   "source": [
    "dt3=dt2.replace({\"Species\": y})"
   ]
  },
  {
   "cell_type": "code",
   "execution_count": 17,
   "id": "24213fc8",
   "metadata": {
    "scrolled": true
   },
   "outputs": [
    {
     "data": {
      "text/plain": [
       "array([101, 102, 103, 104, 105, 106, 100, 107])"
      ]
     },
     "execution_count": 17,
     "metadata": {},
     "output_type": "execute_result"
    }
   ],
   "source": [
    "dt3['Species'].unique()"
   ]
  },
  {
   "cell_type": "code",
   "execution_count": 18,
   "id": "dc941e97",
   "metadata": {
    "scrolled": false
   },
   "outputs": [
    {
     "name": "stdout",
     "output_type": "stream",
     "text": [
      "<class 'pandas.core.frame.DataFrame'>\n",
      "RangeIndex: 23080 entries, 0 to 23079\n",
      "Data columns (total 3 columns):\n",
      " #   Column          Non-Null Count  Dtype  \n",
      "---  ------          --------------  -----  \n",
      " 0   shelter_id      23080 non-null  int64  \n",
      " 1   Species         23080 non-null  int64  \n",
      " 2   distance_miles  23054 non-null  float64\n",
      "dtypes: float64(1), int64(2)\n",
      "memory usage: 541.1 KB\n"
     ]
    }
   ],
   "source": [
    "dt3.info()"
   ]
  },
  {
   "cell_type": "code",
   "execution_count": 33,
   "id": "828cfeb2",
   "metadata": {
    "scrolled": true
   },
   "outputs": [
    {
     "data": {
      "text/plain": [
       "<seaborn.axisgrid.FacetGrid at 0x7f94585eb9a0>"
      ]
     },
     "execution_count": 33,
     "metadata": {},
     "output_type": "execute_result"
    },
    {
     "data": {
      "image/png": "[encoded data removed]",
      "text/plain": [
       "<Figure size 504x504 with 1 Axes>"
      ]
     },
     "metadata": {
      "needs_background": "light"
     },
     "output_type": "display_data"
    }
   ],
   "source": [
    "sns.displot(data=dt3,  x=\"shelter_id\", kind=\"kde\",height = 7)"
   ]
  },
  {
   "cell_type": "markdown",
   "id": "74c391d2",
   "metadata": {},
   "source": [
    "denisity of most animals are at shlter id 8 being dallas "
   ]
  },
  {
   "cell_type": "code",
   "execution_count": 20,
   "id": "d911aad7",
   "metadata": {
    "scrolled": true
   },
   "outputs": [
    {
     "data": {
      "text/plain": [
       "<matplotlib.lines._AxLine at 0x7f946cc8f790>"
      ]
     },
     "execution_count": 20,
     "metadata": {},
     "output_type": "execute_result"
    },
    {
     "data": {
      "image/png": "[encoded data removed]",
      "text/plain": [
       "<Figure size 559.125x504 with 1 Axes>"
      ]
     },
     "metadata": {
      "needs_background": "light"
     },
     "output_type": "display_data"
    }
   ],
   "source": [
    "ax = sns.relplot(data=dt3, x=\"shelter_id\", y=\"distance_miles\",hue = \"Species\",height = 7)\n",
    "g.ax.axline(xy1=(10, 10), slope=.2, color=\"b\", dashes=(5, 2))"
   ]
  },
  {
   "cell_type": "code",
   "execution_count": 34,
   "id": "26f9deb0",
   "metadata": {
    "scrolled": true
   },
   "outputs": [
    {
     "data": {
      "image/png": "[encoded data removed]",
      "text/plain": [
       "<Figure size 1152x1440 with 1 Axes>"
      ]
     },
     "metadata": {
      "needs_background": "light"
     },
     "output_type": "display_data"
    }
   ],
   "source": [
    "plt.figure(figsize=(16, 20))\n",
    "plt.bar(dt3.shelter_id, dt3.distance_miles, color = (0.5,0.1,0.5,0.6))\n",
    "plt.show()"
   ]
  },
  {
   "cell_type": "code",
   "execution_count": 30,
   "id": "bc80cbfd",
   "metadata": {},
   "outputs": [
    {
     "data": {
      "image/png": "[encoded data removed]",
      "text/plain": [
       "<Figure size 432x288 with 1 Axes>"
      ]
     },
     "metadata": {
      "needs_background": "light"
     },
     "output_type": "display_data"
    }
   ],
   "source": [
    "\n",
    "plt.bar(dt3.Species, dt3.shelter_id,)\n",
    "plt.show()"
   ]
  },
  {
   "cell_type": "markdown",
   "id": "71cb9fe9",
   "metadata": {},
   "source": [
    "## understanding shelter Data "
   ]
  },
  {
   "cell_type": "code",
   "execution_count": 36,
   "id": "c9216b17",
   "metadata": {},
   "outputs": [],
   "source": [
    "shelter_data = df['shelter_data']"
   ]
  },
  {
   "cell_type": "code",
   "execution_count": 37,
   "id": "bbf05ede",
   "metadata": {
    "scrolled": true
   },
   "outputs": [
    {
     "data": {
      "text/html": [
       "<div>\n",
       "<style scoped>\n",
       "    .dataframe tbody tr th:only-of-type {\n",
       "        vertical-align: middle;\n",
       "    }\n",
       "\n",
       "    .dataframe tbody tr th {\n",
       "        vertical-align: top;\n",
       "    }\n",
       "\n",
       "    .dataframe thead th {\n",
       "        text-align: right;\n",
       "    }\n",
       "</style>\n",
       "<table border=\"1\" class=\"dataframe\">\n",
       "  <thead>\n",
       "    <tr style=\"text-align: right;\">\n",
       "      <th></th>\n",
       "      <th>shelter_id</th>\n",
       "      <th>annual_intake_2019</th>\n",
       "      <th>annual_intake_2020</th>\n",
       "      <th>annual_intake_2021</th>\n",
       "      <th>jurisdiction_size_sq_km</th>\n",
       "      <th>justidiction_state</th>\n",
       "      <th>jurisdiction_region</th>\n",
       "      <th>jurisdiction_pop_size</th>\n",
       "      <th>jurisdiction_pop_density_person_per_sq_km</th>\n",
       "    </tr>\n",
       "  </thead>\n",
       "  <tbody>\n",
       "    <tr>\n",
       "      <th>0</th>\n",
       "      <td>Rochester</td>\n",
       "      <td>3867</td>\n",
       "      <td>2732.0</td>\n",
       "      <td>2677.0</td>\n",
       "      <td>3541</td>\n",
       "      <td>NY</td>\n",
       "      <td>Monroe County</td>\n",
       "      <td>741770</td>\n",
       "      <td>209.480373</td>\n",
       "    </tr>\n",
       "    <tr>\n",
       "      <th>1</th>\n",
       "      <td>Oakland</td>\n",
       "      <td>6188</td>\n",
       "      <td>5234.0</td>\n",
       "      <td>7613.0</td>\n",
       "      <td>1914</td>\n",
       "      <td>CA</td>\n",
       "      <td>Alameda County</td>\n",
       "      <td>1682353</td>\n",
       "      <td>878.972309</td>\n",
       "    </tr>\n",
       "    <tr>\n",
       "      <th>2</th>\n",
       "      <td>Fresno</td>\n",
       "      <td>8001</td>\n",
       "      <td>6246.0</td>\n",
       "      <td>6634.0</td>\n",
       "      <td>15568</td>\n",
       "      <td>CA</td>\n",
       "      <td>Fresno County</td>\n",
       "      <td>999101</td>\n",
       "      <td>64.176580</td>\n",
       "    </tr>\n",
       "    <tr>\n",
       "      <th>3</th>\n",
       "      <td>Mcallen</td>\n",
       "      <td>21815</td>\n",
       "      <td>15511.0</td>\n",
       "      <td>15283.0</td>\n",
       "      <td>4100</td>\n",
       "      <td>TX</td>\n",
       "      <td>Hidalgo County</td>\n",
       "      <td>868707</td>\n",
       "      <td>211.879756</td>\n",
       "    </tr>\n",
       "    <tr>\n",
       "      <th>4</th>\n",
       "      <td>Tucson</td>\n",
       "      <td>27064</td>\n",
       "      <td>17547.0</td>\n",
       "      <td>23940.0</td>\n",
       "      <td>23799</td>\n",
       "      <td>AZ</td>\n",
       "      <td>Pima County</td>\n",
       "      <td>1043433</td>\n",
       "      <td>43.843565</td>\n",
       "    </tr>\n",
       "    <tr>\n",
       "      <th>5</th>\n",
       "      <td>Madera</td>\n",
       "      <td>5166</td>\n",
       "      <td>NaN</td>\n",
       "      <td>NaN</td>\n",
       "      <td>5576</td>\n",
       "      <td>CA</td>\n",
       "      <td>Madera County</td>\n",
       "      <td>156255</td>\n",
       "      <td>28.022776</td>\n",
       "    </tr>\n",
       "    <tr>\n",
       "      <th>6</th>\n",
       "      <td>Las Vegas</td>\n",
       "      <td>27922</td>\n",
       "      <td>17957.0</td>\n",
       "      <td>NaN</td>\n",
       "      <td>20878</td>\n",
       "      <td>NV</td>\n",
       "      <td>Clark County</td>\n",
       "      <td>2265461</td>\n",
       "      <td>108.509484</td>\n",
       "    </tr>\n",
       "    <tr>\n",
       "      <th>7</th>\n",
       "      <td>Dallas</td>\n",
       "      <td>40155</td>\n",
       "      <td>19594.0</td>\n",
       "      <td>18533.0</td>\n",
       "      <td>1992</td>\n",
       "      <td>TX</td>\n",
       "      <td>Dallas City</td>\n",
       "      <td>1304379</td>\n",
       "      <td>654.808735</td>\n",
       "    </tr>\n",
       "    <tr>\n",
       "      <th>8</th>\n",
       "      <td>San Diego</td>\n",
       "      <td>33555</td>\n",
       "      <td>31871.0</td>\n",
       "      <td>30803.0</td>\n",
       "      <td>11036</td>\n",
       "      <td>TX</td>\n",
       "      <td>San Diego County</td>\n",
       "      <td>3338000</td>\n",
       "      <td>302.464661</td>\n",
       "    </tr>\n",
       "    <tr>\n",
       "      <th>9</th>\n",
       "      <td>Pasco</td>\n",
       "      <td>9906</td>\n",
       "      <td>11370.0</td>\n",
       "      <td>6510.0</td>\n",
       "      <td>2250</td>\n",
       "      <td>FL</td>\n",
       "      <td>Pasco County</td>\n",
       "      <td>553947</td>\n",
       "      <td>246.198667</td>\n",
       "    </tr>\n",
       "    <tr>\n",
       "      <th>10</th>\n",
       "      <td>Atlanta</td>\n",
       "      <td>8288</td>\n",
       "      <td>7062.0</td>\n",
       "      <td>8302.0</td>\n",
       "      <td>702</td>\n",
       "      <td>GA</td>\n",
       "      <td>Dekalb County</td>\n",
       "      <td>764382</td>\n",
       "      <td>1088.863248</td>\n",
       "    </tr>\n",
       "  </tbody>\n",
       "</table>\n",
       "</div>"
      ],
      "text/plain": [
       "   shelter_id  annual_intake_2019  annual_intake_2020  annual_intake_2021  \\\n",
       "0   Rochester                3867              2732.0              2677.0   \n",
       "1     Oakland                6188              5234.0              7613.0   \n",
       "2      Fresno                8001              6246.0              6634.0   \n",
       "3     Mcallen               21815             15511.0             15283.0   \n",
       "4      Tucson               27064             17547.0             23940.0   \n",
       "5      Madera                5166                 NaN                 NaN   \n",
       "6   Las Vegas               27922             17957.0                 NaN   \n",
       "7      Dallas               40155             19594.0             18533.0   \n",
       "8   San Diego               33555             31871.0             30803.0   \n",
       "9       Pasco                9906             11370.0              6510.0   \n",
       "10    Atlanta                8288              7062.0              8302.0   \n",
       "\n",
       "    jurisdiction_size_sq_km justidiction_state jurisdiction_region  \\\n",
       "0                      3541                 NY       Monroe County   \n",
       "1                      1914                 CA      Alameda County   \n",
       "2                     15568                 CA       Fresno County   \n",
       "3                      4100                 TX      Hidalgo County   \n",
       "4                     23799                 AZ         Pima County   \n",
       "5                      5576                 CA       Madera County   \n",
       "6                     20878                 NV        Clark County   \n",
       "7                      1992                 TX         Dallas City   \n",
       "8                     11036                 TX    San Diego County   \n",
       "9                      2250                 FL        Pasco County   \n",
       "10                      702                 GA       Dekalb County   \n",
       "\n",
       "    jurisdiction_pop_size  jurisdiction_pop_density_person_per_sq_km  \n",
       "0                  741770                                 209.480373  \n",
       "1                 1682353                                 878.972309  \n",
       "2                  999101                                  64.176580  \n",
       "3                  868707                                 211.879756  \n",
       "4                 1043433                                  43.843565  \n",
       "5                  156255                                  28.022776  \n",
       "6                 2265461                                 108.509484  \n",
       "7                 1304379                                 654.808735  \n",
       "8                 3338000                                 302.464661  \n",
       "9                  553947                                 246.198667  \n",
       "10                 764382                                1088.863248  "
      ]
     },
     "execution_count": 37,
     "metadata": {},
     "output_type": "execute_result"
    }
   ],
   "source": [
    "shelter_data"
   ]
  },
  {
   "cell_type": "code",
   "execution_count": 50,
   "id": "9455dcf4",
   "metadata": {},
   "outputs": [],
   "source": [
    "dfnew = shelter_data[['shelter_id','annual_intake_2019','annual_intake_2020','annual_intake_2021']]"
   ]
  },
  {
   "cell_type": "code",
   "execution_count": 55,
   "id": "ad0e9a23",
   "metadata": {},
   "outputs": [
    {
     "data": {
      "text/plain": [
       "<AxesSubplot:xlabel='shelter_id'>"
      ]
     },
     "execution_count": 55,
     "metadata": {},
     "output_type": "execute_result"
    },
    {
     "data": {
      "image/png": "[encoded data removed]",
      "text/plain": [
       "<Figure size 432x288 with 1 Axes>"
      ]
     },
     "metadata": {
      "needs_background": "light"
     },
     "output_type": "display_data"
    }
   ],
   "source": [
    "dfnew.set_index('shelter_id').plot()"
   ]
  },
  {
   "cell_type": "code",
   "execution_count": 71,
   "id": "c1892e2d",
   "metadata": {
    "scrolled": true
   },
   "outputs": [
    {
     "data": {
      "image/png": "[encoded data removed]",
      "text/plain": [
       "<Figure size 432x288 with 1 Axes>"
      ]
     },
     "metadata": {
      "needs_background": "light"
     },
     "output_type": "display_data"
    }
   ],
   "source": [
    "ax = sns.barplot(data=shelter_data, x = 'annual_intake_2021'  , y = 'jurisdiction_size_sq_km')"
   ]
  },
  {
   "cell_type": "code",
   "execution_count": 72,
   "id": "a2e76718",
   "metadata": {},
   "outputs": [
    {
     "data": {
      "image/png": "[encoded data removed]",
      "text/plain": [
       "<Figure size 432x288 with 1 Axes>"
      ]
     },
     "metadata": {
      "needs_background": "light"
     },
     "output_type": "display_data"
    }
   ],
   "source": [
    "ax = sns.barplot(data=shelter_data, x = 'jurisdiction_pop_size'  , y = 'jurisdiction_size_sq_km')"
   ]
  },
  {
   "cell_type": "markdown",
   "id": "99610131",
   "metadata": {},
   "source": [
    "## observations from graphs "
   ]
  },
  {
   "cell_type": "markdown",
   "id": "d224611f",
   "metadata": {},
   "source": [
    "from the above graphs we understand \n",
    "- shelter in dallas tho less in size compared to other shlters has more density of animal intake and has increased this intake stedily over the years . \n",
    "- Dallas shelter has the highest size/pop ratio helping with the animal adoptation number \n",
    "- Most number of species in the shelters are dogs and cats  "
   ]
  },
  {
   "cell_type": "code",
   "execution_count": null,
   "id": "02d98745",
   "metadata": {},
   "outputs": [],
   "source": []
  }
 ],
 "metadata": {
  "kernelspec": {
   "display_name": "Python 3 (ipykernel)",
   "language": "python",
   "name": "python3"
  },
  "language_info": {
   "codemirror_mode": {
    "name": "ipython",
    "version": 3
   },
   "file_extension": ".py",
   "mimetype": "text/x-python",
   "name": "python",
   "nbconvert_exporter": "python",
   "pygments_lexer": "ipython3",
   "version": "3.9.7"
  }
 },
 "nbformat": 4,
 "nbformat_minor": 5
}
